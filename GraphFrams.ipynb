{
 "cells": [
  {
   "cell_type": "code",
   "execution_count": 1,
   "id": "e1694ac1",
   "metadata": {},
   "outputs": [],
   "source": [
    "sc.addPyFile(\"/opt/spark/jars/graphframes-0.8.2-spark3.2-s_2.12.jar\")"
   ]
  },
  {
   "cell_type": "code",
   "execution_count": 2,
   "id": "492002c2",
   "metadata": {},
   "outputs": [],
   "source": [
    "import numpy as np\n",
    "from graphframes import GraphFrame\n",
    "from pyspark.sql.functions import *"
   ]
  },
  {
   "cell_type": "code",
   "execution_count": 3,
   "id": "2a0819b3",
   "metadata": {
    "colab": {
     "base_uri": "https://localhost:8080/",
     "height": 17
    },
    "id": "2a0819b3",
    "outputId": "fdd14e4a-0ed7-4437-c36c-571f5fc32d9f"
   },
   "outputs": [
    {
     "data": {
      "text/html": [
       "<style>pre { white-space: pre !important; }</style>"
      ],
      "text/plain": [
       "<IPython.core.display.HTML object>"
      ]
     },
     "metadata": {},
     "output_type": "display_data"
    }
   ],
   "source": [
    "from IPython.display import display, HTML\n",
    "display(HTML(\"<style>pre { white-space: pre !important; }</style>\"))"
   ]
  },
  {
   "cell_type": "markdown",
   "id": "d7f57da0",
   "metadata": {
    "id": "d7f57da0"
   },
   "source": [
    "### Read departuredelays.csv in Edge DataFrame\n",
    "### Read airport-codes-na.txt in Vertix DataFrame (the separator is Tab i.e sep = '\\t' )"
   ]
  },
  {
   "cell_type": "markdown",
   "id": "631c334e",
   "metadata": {
    "id": "631c334e"
   },
   "source": [
    "#### The US flight delays data set has five columns:\n",
    "- The <b>date</b> column contains an integer like 02190925 . When converted, this maps to 02-19 09:25 am.\n",
    "- The <b>delay</b> column gives the delay in minutes between the scheduled and actual departure times. Early departures show negative numbers.\n",
    "- The <b>distance</b> column gives the distance in miles from the origin airport to the destination airport.\n",
    "- The <b>origin</b> column contains the origin IATA airport code.\n",
    "- The <b>destination</b> column contains the destination IATA airport code.\n",
    "\n",
    "#### The airport-codes data set has four columns:\n",
    "- The <b>IATA</b> column contains IATA airport code.\n",
    "- The <b>City, State, and Country</b> columns contains information about the airport location."
   ]
  },
  {
   "cell_type": "code",
   "execution_count": 4,
   "id": "30f02a5a",
   "metadata": {
    "id": "30f02a5a"
   },
   "outputs": [],
   "source": [
    "ed = spark.read.csv(\"/home/el-neshwy/Documents/DataFrameworks/Day7/Lab7/departuredelays.csv\", inferSchema=False, header=True)\n",
    "ver = spark.read.option(\"delimiter\", \"\\t\").csv(\"/home/el-neshwy/Documents/DataFrameworks/Day7/Lab7/airport-codes-na.txt\",header=True)"
   ]
  },
  {
   "cell_type": "markdown",
   "id": "e1d90463",
   "metadata": {
    "id": "e1d90463"
   },
   "source": [
    "### In the vertix DataFrame, drop any duplicated rows with the same  IATA code."
   ]
  },
  {
   "cell_type": "code",
   "execution_count": 5,
   "id": "15571db4",
   "metadata": {
    "id": "15571db4"
   },
   "outputs": [],
   "source": [
    "ver2 = ver.dropDuplicates([\"IATA\"])"
   ]
  },
  {
   "cell_type": "markdown",
   "id": "83d1dea8",
   "metadata": {
    "id": "83d1dea8"
   },
   "source": [
    "### In the edges DataFrame:\n",
    "- Rename the <b>date</b> columns to become <b>tripid</b>.\n",
    "- Rename the <b>origin</b> columns to become <b>src</b>.\n",
    "- Rename the <b>destination</b> columns to become <b>dst</b>."
   ]
  },
  {
   "cell_type": "code",
   "execution_count": 6,
   "id": "5319e844",
   "metadata": {
    "id": "5319e844"
   },
   "outputs": [],
   "source": [
    "ed2 = ed.withColumnRenamed('date','tripid')\n",
    "ed3 = ed2.withColumnRenamed('origin', 'src')\n",
    "ed4 = ed3.withColumnRenamed('destination', 'dst')"
   ]
  },
  {
   "cell_type": "markdown",
   "id": "260660dc",
   "metadata": {
    "id": "260660dc"
   },
   "source": [
    "### In the Vertix DataFrame:\n",
    "- Rename the <b>IATA</b> columns to become <b>id</b>."
   ]
  },
  {
   "cell_type": "code",
   "execution_count": 7,
   "id": "42846969",
   "metadata": {
    "id": "42846969",
    "scrolled": false
   },
   "outputs": [],
   "source": [
    "ver3 = ver2.withColumnRenamed('IATA', 'id')"
   ]
  },
  {
   "cell_type": "markdown",
   "id": "4b50a1fe",
   "metadata": {
    "id": "4b50a1fe"
   },
   "source": [
    "### Create GraphFrame from Vertix and Edges DataFrames"
   ]
  },
  {
   "cell_type": "code",
   "execution_count": 8,
   "id": "72be9d09",
   "metadata": {
    "id": "72be9d09"
   },
   "outputs": [
    {
     "name": "stdout",
     "output_type": "stream",
     "text": [
      "+-------------+-----+-------+---+\n",
      "|         City|State|Country| id|\n",
      "+-------------+-----+-------+---+\n",
      "|    Allentown|   PA|    USA|ABE|\n",
      "|      Abilene|   TX|    USA|ABI|\n",
      "|  Albuquerque|   NM|    USA|ABQ|\n",
      "|     Aberdeen|   SD|    USA|ABR|\n",
      "|       Albany|   GA|    USA|ABY|\n",
      "|    Nantucket|   MA|    USA|ACK|\n",
      "|         Waco|   TX|    USA|ACT|\n",
      "|       Eureka|   CA|    USA|ACV|\n",
      "|Atlantic City|   NJ|    USA|ACY|\n",
      "|       Kodiak|   AK|    USA|ADQ|\n",
      "|   Alexandria|   LA|    USA|AEX|\n",
      "|      Augusta|   GA|    USA|AGS|\n",
      "|       Athens|   GA|    USA|AHN|\n",
      "|     Alliance|   NE|    USA|AIA|\n",
      "|  King Salmon|   AK|    USA|AKN|\n",
      "|       Albany|   NY|    USA|ALB|\n",
      "|     Waterloo|   IA|    USA|ALO|\n",
      "|      Alamosa|   CO|    USA|ALS|\n",
      "|  Walla Walla|   WA|    USA|ALW|\n",
      "|     Amarillo|   TX|    USA|AMA|\n",
      "+-------------+-----+-------+---+\n",
      "only showing top 20 rows\n",
      "\n",
      "+--------+-----+--------+---+---+\n",
      "|  tripid|delay|distance|src|dst|\n",
      "+--------+-----+--------+---+---+\n",
      "|01011245|    6|     602|ABE|ATL|\n",
      "|01020600|   -8|     369|ABE|DTW|\n",
      "|01021245|   -2|     602|ABE|ATL|\n",
      "|01020605|   -4|     602|ABE|ATL|\n",
      "|01031245|   -4|     602|ABE|ATL|\n",
      "|01030605|    0|     602|ABE|ATL|\n",
      "|01041243|   10|     602|ABE|ATL|\n",
      "|01040605|   28|     602|ABE|ATL|\n",
      "|01051245|   88|     602|ABE|ATL|\n",
      "|01050605|    9|     602|ABE|ATL|\n",
      "|01061215|   -6|     602|ABE|ATL|\n",
      "|01061725|   69|     602|ABE|ATL|\n",
      "|01061230|    0|     369|ABE|DTW|\n",
      "|01060625|   -3|     602|ABE|ATL|\n",
      "|01070600|    0|     369|ABE|DTW|\n",
      "|01071725|    0|     602|ABE|ATL|\n",
      "|01071230|    0|     369|ABE|DTW|\n",
      "|01070625|    0|     602|ABE|ATL|\n",
      "|01071219|    0|     569|ABE|ORD|\n",
      "|01080600|    0|     369|ABE|DTW|\n",
      "+--------+-----+--------+---+---+\n",
      "only showing top 20 rows\n",
      "\n"
     ]
    },
    {
     "name": "stderr",
     "output_type": "stream",
     "text": [
      "/opt/spark/python/pyspark/sql/dataframe.py:168: UserWarning: DataFrame.sql_ctx is an internal property, and will be removed in future releases. Use DataFrame.sparkSession instead.\n",
      "  warnings.warn(\n"
     ]
    }
   ],
   "source": [
    "ver3.show()\n",
    "ed4.show()\n",
    "graph = GraphFrame(ver3, ed4)"
   ]
  },
  {
   "cell_type": "markdown",
   "id": "abd2ebc6",
   "metadata": {
    "id": "abd2ebc6"
   },
   "source": [
    "### Determine the number of airports"
   ]
  },
  {
   "cell_type": "code",
   "execution_count": 9,
   "id": "f38688c9",
   "metadata": {
    "id": "f38688c9"
   },
   "outputs": [
    {
     "data": {
      "text/plain": [
       "524"
      ]
     },
     "execution_count": 9,
     "metadata": {},
     "output_type": "execute_result"
    }
   ],
   "source": [
    "number_of_airports = graph.vertices.count()\n",
    "number_of_airports"
   ]
  },
  {
   "cell_type": "markdown",
   "id": "435187a8",
   "metadata": {
    "id": "435187a8"
   },
   "source": [
    "### Determine the number of trips"
   ]
  },
  {
   "cell_type": "code",
   "execution_count": 10,
   "id": "db2a507d",
   "metadata": {
    "id": "db2a507d"
   },
   "outputs": [
    {
     "data": {
      "text/plain": [
       "1391578"
      ]
     },
     "execution_count": 10,
     "metadata": {},
     "output_type": "execute_result"
    }
   ],
   "source": [
    "number_of_trips = graph.edges.count()\n",
    "number_of_trips"
   ]
  },
  {
   "cell_type": "markdown",
   "id": "dec8731f",
   "metadata": {
    "id": "dec8731f"
   },
   "source": [
    "### What is the longest delay?"
   ]
  },
  {
   "cell_type": "code",
   "execution_count": 11,
   "id": "df3d6aac",
   "metadata": {
    "colab": {
     "base_uri": "https://localhost:8080/",
     "height": 35
    },
    "id": "df3d6aac",
    "outputId": "ea8ebe32-7451-4dac-d26b-c37cc87c65a2"
   },
   "outputs": [
    {
     "data": {
      "text/plain": [
       "'995'"
      ]
     },
     "execution_count": 11,
     "metadata": {},
     "output_type": "execute_result"
    }
   ],
   "source": [
    "longest_delay = graph.edges.sort('delay',ascending=False).first().delay\n",
    "longest_delay"
   ]
  },
  {
   "cell_type": "code",
   "execution_count": 12,
   "id": "948be105",
   "metadata": {},
   "outputs": [
    {
     "name": "stdout",
     "output_type": "stream",
     "text": [
      "+--------+-----+--------+---+---+\n",
      "|  tripid|delay|distance|src|dst|\n",
      "+--------+-----+--------+---+---+\n",
      "|01090600|  995|     462|SMF|SLC|\n",
      "|03191420|  994|    1590|SJC|ORD|\n",
      "|01200645|  993|     525|MOT|DEN|\n",
      "|03230811|   99|     132|ATL|TYS|\n",
      "|03301756|   99|     925|FLL|EWR|\n",
      "|03051305|   99|     799|CLT|HOU|\n",
      "|01011530|   99|    1138|HRL|MSP|\n",
      "|03301439|   99|     678|ATL|HPN|\n",
      "|01061605|   99|     599|ATL|IAH|\n",
      "|02211459|   99|     910|SRQ|LGA|\n",
      "|01102005|   99|     703|IAH|COS|\n",
      "|03171605|   99|     966|BDL|TPA|\n",
      "|03101059|   99|     188|IAH|DAL|\n",
      "|02071445|   99|     206|TUL|DFW|\n",
      "|01040807|   99|    1034|IAD|IAH|\n",
      "|03091755|   99|     519|BHM|DFW|\n",
      "|01201144|   99|     674|PSP|DEN|\n",
      "|02010840|   99|     454|XNA|ORD|\n",
      "|01011800|   99|     122|GGG|DFW|\n",
      "|03301009|   99|     543|BHM|DTW|\n",
      "+--------+-----+--------+---+---+\n",
      "only showing top 20 rows\n",
      "\n"
     ]
    }
   ],
   "source": [
    "graph.edges.sort(\"delay\",ascending = False).show()"
   ]
  },
  {
   "cell_type": "markdown",
   "id": "202d888c",
   "metadata": {
    "id": "202d888c"
   },
   "source": [
    "### Find out the number of delayed flights vs. early flights (flights that departed before actual time)"
   ]
  },
  {
   "cell_type": "code",
   "execution_count": 13,
   "id": "7cdd7ff7",
   "metadata": {
    "id": "7cdd7ff7"
   },
   "outputs": [
    {
     "data": {
      "text/plain": [
       "668729"
      ]
     },
     "execution_count": 13,
     "metadata": {},
     "output_type": "execute_result"
    }
   ],
   "source": [
    "### delayed flights\n",
    "delayed_flights = graph.edges.filter(graph.edges.delay < 0).count()\n",
    "delayed_flights"
   ]
  },
  {
   "cell_type": "code",
   "execution_count": 14,
   "id": "ffe10285",
   "metadata": {},
   "outputs": [
    {
     "data": {
      "text/plain": [
       "591727"
      ]
     },
     "execution_count": 14,
     "metadata": {},
     "output_type": "execute_result"
    }
   ],
   "source": [
    "### early flights\n",
    "early_flights = graph.edges.filter(graph.edges.delay > 0).count()\n",
    "early_flights"
   ]
  },
  {
   "cell_type": "markdown",
   "id": "30961bc3",
   "metadata": {
    "id": "30961bc3"
   },
   "source": [
    "### What flight destinations departing SFO are most likely to have significant delays? Select the top 10\n",
    "#### Hint: you should get the average delay for each destination for trips that depart from SFO only"
   ]
  },
  {
   "cell_type": "code",
   "execution_count": 15,
   "id": "afdc6842",
   "metadata": {
    "colab": {
     "base_uri": "https://localhost:8080/"
    },
    "id": "afdc6842",
    "outputId": "72f89357-e890-4e34-cf3b-beb99c78a073"
   },
   "outputs": [
    {
     "name": "stdout",
     "output_type": "stream",
     "text": [
      "+---+------------------+\n",
      "|dst|               avg|\n",
      "+---+------------------+\n",
      "|JAC| 30.78846153846154|\n",
      "|OKC|24.822222222222223|\n",
      "|SUN|22.696629213483146|\n",
      "|COS| 22.58888888888889|\n",
      "|SAT|             22.16|\n",
      "|STL|         20.203125|\n",
      "|HNL|19.982608695652175|\n",
      "|ASE|19.846153846153847|\n",
      "|CEC|19.089820359281436|\n",
      "|MDW|18.771929824561404|\n",
      "+---+------------------+\n",
      "only showing top 10 rows\n",
      "\n"
     ]
    }
   ],
   "source": [
    "SFO_delays = graph.edges.filter('src = \"SFO\"').groupBy('dst').agg(avg('delay').alias('avg')).sort('avg',ascending=False)\n",
    "SFO_delays.show(10)"
   ]
  },
  {
   "cell_type": "markdown",
   "id": "71d46665",
   "metadata": {
    "id": "71d46665"
   },
   "source": [
    "### Find the Incoming connections to the airport sorted in Desc. order."
   ]
  },
  {
   "cell_type": "code",
   "execution_count": 16,
   "id": "c28925c3",
   "metadata": {
    "colab": {
     "base_uri": "https://localhost:8080/"
    },
    "id": "c28925c3",
    "outputId": "e3133e94-fb15-4a21-a2aa-878e9f09b8b9"
   },
   "outputs": [
    {
     "name": "stdout",
     "output_type": "stream",
     "text": [
      "+---+-----+\n",
      "|dst|count|\n",
      "+---+-----+\n",
      "|ATL|90434|\n",
      "|DFW|66050|\n",
      "|ORD|61967|\n",
      "|LAX|53601|\n",
      "|DEN|50921|\n",
      "|IAH|42700|\n",
      "|PHX|39721|\n",
      "|SFO|38988|\n",
      "|LAS|32994|\n",
      "|CLT|28388|\n",
      "|MCO|27959|\n",
      "|EWR|27652|\n",
      "|LGA|25469|\n",
      "|BOS|25360|\n",
      "|SLC|25323|\n",
      "|JFK|23484|\n",
      "|DTW|23310|\n",
      "|SEA|23074|\n",
      "|MSP|22385|\n",
      "|MIA|21805|\n",
      "+---+-----+\n",
      "only showing top 20 rows\n",
      "\n"
     ]
    }
   ],
   "source": [
    "Incoming_Desc = graph.edges.groupBy('dst').agg(count('dst').alias('count')).sort('count',ascending=False)\n",
    "Incoming_Desc.show()"
   ]
  },
  {
   "cell_type": "markdown",
   "id": "d1b6509d",
   "metadata": {
    "id": "d1b6509d"
   },
   "source": [
    "### Find the Outgoing connections from the airport sorted in Desc. order."
   ]
  },
  {
   "cell_type": "code",
   "execution_count": 17,
   "id": "631af51d",
   "metadata": {
    "colab": {
     "base_uri": "https://localhost:8080/"
    },
    "id": "631af51d",
    "outputId": "19fbf59b-f022-47dd-edca-6be11b8bb86b"
   },
   "outputs": [
    {
     "name": "stdout",
     "output_type": "stream",
     "text": [
      "+---+-----+\n",
      "|src|count|\n",
      "+---+-----+\n",
      "|ATL|91484|\n",
      "|DFW|68482|\n",
      "|ORD|64228|\n",
      "|LAX|54086|\n",
      "|DEN|53148|\n",
      "|IAH|43361|\n",
      "|PHX|40155|\n",
      "|SFO|39483|\n",
      "|LAS|33107|\n",
      "|CLT|28402|\n",
      "|MCO|28313|\n",
      "|EWR|27656|\n",
      "|SLC|25868|\n",
      "|LGA|25458|\n",
      "|BOS|25348|\n",
      "|MSP|24031|\n",
      "|JFK|23572|\n",
      "|DTW|23421|\n",
      "|SEA|23078|\n",
      "|MIA|21817|\n",
      "+---+-----+\n",
      "only showing top 20 rows\n",
      "\n"
     ]
    },
    {
     "name": "stderr",
     "output_type": "stream",
     "text": [
      "23/10/08 15:10:01 WARN GarbageCollectionMetrics: To enable non-built-in garbage collector(s) List(G1 Concurrent GC), users should configure it(them) to spark.eventLog.gcMetrics.youngGenerationGarbageCollectors or spark.eventLog.gcMetrics.oldGenerationGarbageCollectors\n"
     ]
    }
   ],
   "source": [
    "Outgoing_Desc = graph.edges.groupBy('src').agg(count('src').alias('count')).sort('count',ascending=False)\n",
    "Outgoing_Desc.show()"
   ]
  },
  {
   "cell_type": "markdown",
   "id": "fbec58ce",
   "metadata": {
    "id": "fbec58ce"
   },
   "source": [
    "### Use motif finding to answer this question: which delays could we blame on SFO?\n",
    "#### Hint: this practically means that SFO is a transit station"
   ]
  },
  {
   "cell_type": "code",
   "execution_count": 18,
   "id": "db17f3df",
   "metadata": {
    "colab": {
     "base_uri": "https://localhost:8080/"
    },
    "id": "db17f3df",
    "outputId": "d3665038-e2de-4d2d-e7a7-e2ca9670a282"
   },
   "outputs": [
    {
     "name": "stderr",
     "output_type": "stream",
     "text": [
      "/opt/spark/python/pyspark/sql/dataframe.py:147: UserWarning: DataFrame constructor is internal. Do not directly use it.\n",
      "  warnings.warn(\"DataFrame constructor is internal. Do not directly use it.\")\n"
     ]
    },
    {
     "name": "stdout",
     "output_type": "stream",
     "text": [
      "+---+-----+---+-----+---+\n",
      "| id|delay| id|delay| id|\n",
      "+---+-----+---+-----+---+\n",
      "|ABQ|   -7|SFO|   55|JFK|\n",
      "|ABQ|   -7|SFO|  134|DFW|\n",
      "|ABQ|   -7|SFO|   32|ORD|\n",
      "|ABQ|   -7|SFO|    3|DFW|\n",
      "|ABQ|   -7|SFO|  124|ORD|\n",
      "|ABQ|   -7|SFO|  139|LAX|\n",
      "|ABQ|   -7|SFO|  133|JFK|\n",
      "|ABQ|   -7|SFO|  113|ORD|\n",
      "|ABQ|   -7|SFO|    8|LAX|\n",
      "|ABQ|   -7|SFO|   18|MIA|\n",
      "|ABQ|   -7|SFO|    2|DFW|\n",
      "|ABQ|   -7|SFO|    9|ORD|\n",
      "|ABQ|   -7|SFO|  326|ORD|\n",
      "|ABQ|   -7|SFO|    1|DFW|\n",
      "|ABQ|   -7|SFO|   34|ORD|\n",
      "|ABQ|   -7|SFO|    1|DFW|\n",
      "|ABQ|   -7|SFO|  190|ORD|\n",
      "|ABQ|   -7|SFO|    9|LAX|\n",
      "|ABQ|   -7|SFO|  111|JFK|\n",
      "|ABQ|   -7|SFO|  103|DFW|\n",
      "+---+-----+---+-----+---+\n",
      "only showing top 20 rows\n",
      "\n"
     ]
    }
   ],
   "source": [
    "blame_on_SFO = graph.find('(v1)-[e1]->(SFO);(SFO)-[e2]->(v2)')\\\n",
    ".select('v1.id','e1.delay','SFO.id','e2.delay','v2.id')\\\n",
    ".filter('SFO.id = \"SFO\" and e2.delay > 0')\n",
    "blame_on_SFO.show()"
   ]
  },
  {
   "cell_type": "markdown",
   "id": "cc1ece96",
   "metadata": {
    "id": "cc1ece96"
   },
   "source": [
    "### Determine Airport Ranking in Desc. order using PageRank algorithm"
   ]
  },
  {
   "cell_type": "code",
   "execution_count": 19,
   "id": "f754d545",
   "metadata": {
    "colab": {
     "base_uri": "https://localhost:8080/"
    },
    "id": "f754d545",
    "outputId": "ab50e31d-52ed-4c32-fe63-bba7de795385"
   },
   "outputs": [],
   "source": [
    "sampled_vertices = graph.filterVertices(f\"rand() < {0.2}\").vertices\n",
    "sampled_edges = graph.filterEdges(f\"rand() < {0.2}\").edges\n",
    "\n",
    "new_graph = GraphFrame(sampled_vertices,sampled_edges)"
   ]
  },
  {
   "cell_type": "code",
   "execution_count": 20,
   "id": "76ab04e3",
   "metadata": {},
   "outputs": [
    {
     "name": "stdout",
     "output_type": "stream",
     "text": [
      "+------------+-----+-------+---+-------------------+\n",
      "|        City|State|Country| id|           pagerank|\n",
      "+------------+-----+-------+---+-------------------+\n",
      "|  Fort Myers|   FL|    USA|RSW|  2.455802452294041|\n",
      "| Kansas City|   MO|    USA|MCI| 1.1249698059223985|\n",
      "| Bakersfield|   CA|    USA|BFL| 0.3586020942149372|\n",
      "|    Montreal|   PQ| Canada|YUL|0.23164307824414976|\n",
      "|  Mason City|   IA|    USA|MCW|0.23164307824414976|\n",
      "|        Elko|   NV|    USA|EKO|0.23164307824414976|\n",
      "|     Laramie|   WY|    USA|LAR|0.23164307824414976|\n",
      "|  Farmington|   NM|    USA|FMN|0.23164307824414976|\n",
      "|         Eek|   AK|    USA|EEK|0.23164307824414976|\n",
      "| Grand Forks|   ND|    USA|GFK|0.23164307824414976|\n",
      "|      Casper|   WY|    USA|CPR|0.23164307824414976|\n",
      "|     Hyannis|   MA|    USA|HYA|0.23164307824414976|\n",
      "|Medicine Hat|   AB| Canada|YXH|0.23164307824414976|\n",
      "+------------+-----+-------+---+-------------------+\n",
      "\n"
     ]
    }
   ],
   "source": [
    "Airport_Ranking = new_graph.pageRank(resetProbability=0.15, maxIter=10).vertices.orderBy('pagerank', ascending=False)\n",
    "Airport_Ranking.show()"
   ]
  },
  {
   "cell_type": "markdown",
   "id": "fe1e7648",
   "metadata": {
    "id": "fe1e7648"
   },
   "source": [
    "## Determine the most popular flights (single city hops)"
   ]
  },
  {
   "cell_type": "code",
   "execution_count": 21,
   "id": "da4b3306",
   "metadata": {
    "colab": {
     "base_uri": "https://localhost:8080/"
    },
    "id": "da4b3306",
    "outputId": "c108df60-54b2-4e82-b5b6-c43f924b7dfd"
   },
   "outputs": [
    {
     "name": "stdout",
     "output_type": "stream",
     "text": [
      "+---+---+-----+\n",
      "|src|dst|count|\n",
      "+---+---+-----+\n",
      "|SFO|LAX| 3232|\n",
      "|LAX|SFO| 3198|\n",
      "|LAS|LAX| 3016|\n",
      "|LAX|LAS| 2964|\n",
      "|JFK|LAX| 2720|\n",
      "|LAX|JFK| 2719|\n",
      "|ATL|LGA| 2501|\n",
      "|LGA|ATL| 2500|\n",
      "|LAX|PHX| 2394|\n",
      "|PHX|LAX| 2387|\n",
      "|HNL|OGG| 2380|\n",
      "|OGG|HNL| 2379|\n",
      "|LAX|SAN| 2215|\n",
      "|SAN|LAX| 2214|\n",
      "|SJC|LAX| 2208|\n",
      "|LAX|SJC| 2201|\n",
      "|ATL|MCO| 2136|\n",
      "|MCO|ATL| 2090|\n",
      "|JFK|SFO| 2084|\n",
      "|SFO|JFK| 2084|\n",
      "+---+---+-----+\n",
      "only showing top 20 rows\n",
      "\n"
     ]
    }
   ],
   "source": [
    "popular_flights = graph.edges.groupBy('src','dst').agg(count('*').alias('count')).sort('count',ascending=False)\n",
    "popular_flights.show()"
   ]
  },
  {
   "cell_type": "markdown",
   "id": "8ebb5e18",
   "metadata": {
    "id": "8ebb5e18"
   },
   "source": [
    "### Find and Save a Subragph that obtained from the following pattern:\n",
    "#### The flight starts from an airport and return back to the same airport through 2 other airports."
   ]
  },
  {
   "cell_type": "code",
   "execution_count": 28,
   "id": "fd2b73d7",
   "metadata": {},
   "outputs": [],
   "source": [
    "sampled_vertices = graph.filterVertices(f\"rand() < {0.1}\").vertices\n",
    "sampled_edges = graph.filterEdges(f\"rand() < {0.1}\").edges\n",
    "\n",
    "new_graph = GraphFrame(sampled_vertices,sampled_edges)"
   ]
  },
  {
   "cell_type": "code",
   "execution_count": 29,
   "id": "CKjKLdo7wMBZ",
   "metadata": {
    "id": "CKjKLdo7wMBZ"
   },
   "outputs": [],
   "source": [
    "flight_from_airport_return_2_airports = new_graph.find('(v1)-[e1]->(v2);(v2)-[e2]->(v3);(v3)-[e3]->(v1)')"
   ]
  },
  {
   "cell_type": "code",
   "execution_count": 30,
   "id": "WmHxApGmlL_U",
   "metadata": {
    "id": "WmHxApGmlL_U"
   },
   "outputs": [],
   "source": [
    "e1 = flight_from_airport_return_2_airports.select(\"e1.src\", \"e1.dst\", \"e1.tripid\", \"e1.delay\", \"e1.distance\")\n",
    "e2 = flight_from_airport_return_2_airports.select(\"e2.src\", \"e2.dst\", \"e2.tripid\", \"e2.delay\", \"e2.distance\")\n",
    "e3 = flight_from_airport_return_2_airports.select(\"e3.src\", \"e3.dst\", \"e3.tripid\", \"e3.delay\", \"e3.distance\")\n",
    "eset1 = e1.union(e2)\n",
    "eset2= eset1.union(e3)\n",
    "e = eset2.dropDuplicates()"
   ]
  },
  {
   "cell_type": "code",
   "execution_count": 31,
   "id": "gt8QtJd-lRAl",
   "metadata": {
    "id": "gt8QtJd-lRAl"
   },
   "outputs": [],
   "source": [
    "v1 = flight_from_airport_return_2_airports.select(\"v1.id\", \"v1.Country\", \"v1.State\", \"v1.City\")\n",
    "v2 = flight_from_airport_return_2_airports.select(\"v2.id\", \"v2.Country\", \"v2.State\", \"v2.City\")\n",
    "v3 = flight_from_airport_return_2_airports.select(\"v3.id\", \"v3.Country\", \"v3.State\", \"v3.City\")\n",
    "vset1 = v1.union(v2)\n",
    "vset2 = vset1.union(v3)\n",
    "v = vset2.dropDuplicates()"
   ]
  },
  {
   "cell_type": "code",
   "execution_count": 32,
   "id": "vQ83AYGglTp1",
   "metadata": {
    "id": "vQ83AYGglTp1"
   },
   "outputs": [],
   "source": [
    "sub_graph = GraphFrame(v,e)"
   ]
  },
  {
   "cell_type": "code",
   "execution_count": 33,
   "id": "E9BhjQuQlWt-",
   "metadata": {
    "colab": {
     "base_uri": "https://localhost:8080/"
    },
    "id": "E9BhjQuQlWt-",
    "outputId": "9da1e549-6199-4921-cd0b-1026b631e4c7"
   },
   "outputs": [
    {
     "name": "stderr",
     "output_type": "stream",
     "text": [
      "23/10/08 15:10:27 WARN RowBasedKeyValueBatch: Calling spill() on RowBasedKeyValueBatch. Will not spill but return 0.\n",
      "[Stage 358:==================================================>    (10 + 1) / 11]\r"
     ]
    },
    {
     "name": "stdout",
     "output_type": "stream",
     "text": [
      "+---+---+--------+-----+--------+\n",
      "|src|dst|  tripid|delay|distance|\n",
      "+---+---+--------+-----+--------+\n",
      "|PHX|DCA|01050945|    3|    1719|\n",
      "|ATL|DCA|02081320|   -3|     475|\n",
      "|PHX|PDX|01221935|    3|     877|\n",
      "|TUS|ATL|01131352|  111|    1339|\n",
      "|DCA|ATL|02261400|   -6|     475|\n",
      "|PVD|ATL|02191807|    0|     785|\n",
      "|DCA|ATL|01291900|  175|     475|\n",
      "|ATL|TUL|02202008|    0|     586|\n",
      "|CMH|ATL|02030705|   -1|     388|\n",
      "|DCA|ATL|02252000|   -9|     475|\n",
      "|PHX|ABQ|02161335|   -1|     285|\n",
      "|PDX|ATL|02110915|   -5|    1888|\n",
      "|ATL|CMH|03041729|   14|     388|\n",
      "|TUL|ATL|02131029|    0|     586|\n",
      "|PHX|ABQ|03301435|   25|     285|\n",
      "|TUL|PHX|03070630|   -3|     813|\n",
      "|ATL|CMH|02101510|   -1|     388|\n",
      "|PHX|PDX|01270850|   25|     877|\n",
      "|ATL|PHX|02081425|   -3|    1379|\n",
      "|PHX|ATL|01130700|   -4|    1379|\n",
      "+---+---+--------+-----+--------+\n",
      "only showing top 20 rows\n",
      "\n"
     ]
    },
    {
     "name": "stderr",
     "output_type": "stream",
     "text": [
      "\r\n",
      "                                                                                \r"
     ]
    }
   ],
   "source": [
    "sub_graph.edges.show()"
   ]
  }
 ],
 "metadata": {
  "colab": {
   "provenance": []
  },
  "kernelspec": {
   "display_name": "Python 3 (ipykernel)",
   "language": "python",
   "name": "python3"
  },
  "language_info": {
   "codemirror_mode": {
    "name": "ipython",
    "version": 3
   },
   "file_extension": ".py",
   "mimetype": "text/x-python",
   "name": "python",
   "nbconvert_exporter": "python",
   "pygments_lexer": "ipython3",
   "version": "3.11.5"
  }
 },
 "nbformat": 4,
 "nbformat_minor": 5
}
